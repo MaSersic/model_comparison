{
 "metadata": {
  "kernelspec": {
   "language": "python",
   "display_name": "Python 3",
   "name": "python3"
  },
  "language_info": {
   "name": "python",
   "version": "3.7.9",
   "mimetype": "text/x-python",
   "codemirror_mode": {
    "name": "ipython",
    "version": 3
   },
   "pygments_lexer": "ipython3",
   "nbconvert_exporter": "python",
   "file_extension": ".py"
  },
  "pycharm": {
   "stem_cell": {
    "cell_type": "raw",
    "source": [],
    "metadata": {
     "collapsed": false
    }
   }
  }
 },
 "nbformat_minor": 4,
 "nbformat": 4,
 "cells": [
  {
   "cell_type": "code",
   "source": [
    "# Based on a notebook found here: https://www.kaggle.com/jeongwonkim10516/nlp-fake-news-with-bert-99-55-top1/notebook\n",
    "\n",
    "# Most basic stuff for EDA.\n",
    "\n",
    "import pandas as pd\n",
    "import numpy as np\n",
    "import matplotlib.pyplot as plt\n",
    "import seaborn as sns\n",
    "\n",
    "# Libraries for text preprocessing.\n",
    "\n",
    "import nltk\n",
    "nltk.download('stopwords')\n",
    "nltk.download('punkt')\n",
    "nltk.download('averaged_perceptron_tagger')\n",
    "nltk.download('wordnet')\n",
    "from nltk.corpus import stopwords, wordnet\n",
    "\n",
    "# Loading some sklearn packaces for modelling.\n",
    "\n",
    "from sklearn.metrics import f1_score, accuracy_score\n",
    "\n",
    "# Core packages for general use throughout the notebook.\n",
    "\n",
    "import random\n",
    "import warnings\n",
    "import time\n",
    "import datetime\n",
    "\n",
    "# Loading pytorch packages.\n",
    "\n",
    "import torch\n",
    "from transformers import BertTokenizer, BertForSequenceClassification, AdamW, BertConfig, get_linear_schedule_with_warmup\n",
    "from torch.utils.data import TensorDataset, random_split, DataLoader, RandomSampler, SequentialSampler\n",
    "\n",
    "# Setting some options for general use.\n",
    "\n",
    "stop = set(stopwords.words('english'))\n",
    "plt.style.use('fivethirtyeight')\n",
    "sns.set(font_scale=1.5)\n",
    "pd.options.display.max_columns = 250\n",
    "pd.options.display.max_rows = 250\n",
    "warnings.filterwarnings('ignore')\n",
    "\n",
    "\n",
    "#Setting seeds for consistent results.\n",
    "seed_val = 42\n",
    "random.seed(seed_val)\n",
    "np.random.seed(seed_val)\n",
    "torch.manual_seed(seed_val)\n",
    "torch.cuda.manual_seed_all(seed_val)"
   ],
   "metadata": {
    "trusted": true,
    "pycharm": {
     "is_executing": false
    }
   },
   "execution_count": 6,
   "outputs": [
    {
     "name": "stderr",
     "text": [
      "[nltk_data] Downloading package stopwords to\n",
      "[nltk_data]     C:\\Users\\Korisnik\\AppData\\Roaming\\nltk_data...\n",
      "[nltk_data]   Package stopwords is already up-to-date!\n",
      "[nltk_data] Downloading package punkt to\n",
      "[nltk_data]     C:\\Users\\Korisnik\\AppData\\Roaming\\nltk_data...\n",
      "[nltk_data]   Package punkt is already up-to-date!\n",
      "[nltk_data] Downloading package averaged_perceptron_tagger to\n",
      "[nltk_data]     C:\\Users\\Korisnik\\AppData\\Roaming\\nltk_data...\n",
      "[nltk_data]   Package averaged_perceptron_tagger is already up-to-\n",
      "[nltk_data]       date!\n",
      "[nltk_data] Downloading package wordnet to\n",
      "[nltk_data]     C:\\Users\\Korisnik\\AppData\\Roaming\\nltk_data...\n",
      "[nltk_data]   Package wordnet is already up-to-date!\n"
     ],
     "output_type": "stream"
    }
   ]
  },
  {
   "cell_type": "code",
   "source": [
    "if torch.cuda.is_available():    \n",
    "\n",
    "    # Tell PyTorch to use the GPU.  \n",
    "    \n",
    "    device = torch.device('cuda')    \n",
    "    print('There are %d GPU(s) available.' % torch.cuda.device_count())\n",
    "    print('We will use the GPU:', torch.cuda.get_device_name(0))\n",
    "    \n",
    "    #device = torch.device('cpu')\n",
    "\n",
    "# If not...\n",
    "\n",
    "else:\n",
    "    print('No GPU available, using the CPU instead.')\n",
    "    device = torch.device('cpu')"
   ],
   "metadata": {
    "trusted": true,
    "pycharm": {
     "is_executing": false
    }
   },
   "execution_count": 7,
   "outputs": [
    {
     "name": "stdout",
     "text": [
      "There are 1 GPU(s) available.\n",
      "We will use the GPU: NVIDIA GeForce GTX 1060\n"
     ],
     "output_type": "stream"
    }
   ]
  },
  {
   "cell_type": "code",
   "source": [
    "print('Using device:', device)"
   ],
   "metadata": {
    "trusted": true,
    "pycharm": {
     "is_executing": false
    }
   },
   "execution_count": 8,
   "outputs": [
    {
     "name": "stdout",
     "text": [
      "Using device: cuda\n"
     ],
     "output_type": "stream"
    }
   ]
  },
  {
   "cell_type": "code",
   "source": [
    "# kaggle fake news dataset\n",
    "# 1=false, 0=true\n",
    "\n",
    "train = pd.read_csv(r'.\\data\\fake-news\\train.csv')\n",
    "test = pd.read_csv(r'.\\data\\fake-news\\test.csv')\n",
    "results = pd.read_csv(r'.\\data\\fake-news\\submit.csv')\n",
    "\n",
    "labels = train[\"label\"].values\n",
    "test_labels = results[\"label\"].values\n",
    "\n",
    "train.drop('label',axis=1)\n",
    "train = train.fillna('no data')\n",
    "test = test.fillna('no data')"
   ],
   "metadata": {
    "trusted": true,
    "pycharm": {
     "is_executing": false
    }
   },
   "execution_count": 9,
   "outputs": []
  },
  {
   "cell_type": "code",
   "execution_count": 10,
   "outputs": [],
   "source": [
    "train = train['text'] + \" \" + train['title']\n",
    "test = test['text'] + \" \" + test['title']"
   ],
   "metadata": {
    "collapsed": false,
    "pycharm": {
     "name": "#%%\n",
     "is_executing": false
    }
   }
  },
  {
   "cell_type": "code",
   "source": [
    "tokenizer = BertTokenizer.from_pretrained('bert-base-uncased', do_lower_case=True)"
   ],
   "metadata": {
    "trusted": true,
    "pycharm": {
     "is_executing": false
    }
   },
   "execution_count": 11,
   "outputs": []
  },
  {
   "cell_type": "code",
   "source": [
    "def tokenize_map(sentence,labs='None'):\n",
    "    \n",
    "    \"\"\"A function for tokenize all of the sentences and map the tokens to their word IDs.\"\"\"\n",
    "    \n",
    "    global labels\n",
    "    \n",
    "    input_ids = []\n",
    "    attention_masks = []\n",
    "\n",
    "    # For every sentence...\n",
    "    \n",
    "    for text in sentence:\n",
    "        #   \"encode_plus\" will:\n",
    "        \n",
    "        #   (1) Tokenize the sentence.\n",
    "        #   (2) Prepend the `[CLS]` token to the start.\n",
    "        #   (3) Append the `[SEP]` token to the end.\n",
    "        #   (4) Map tokens to their IDs.\n",
    "        #   (5) Pad or truncate the sentence to `max_length`\n",
    "        #   (6) Create attention masks for [PAD] tokens.\n",
    "        \n",
    "        encoded_dict = tokenizer.encode_plus(\n",
    "                            text,                      # Sentence to encode.\n",
    "                            add_special_tokens = True, # Add '[CLS]' and '[SEP]'\n",
    "                            truncation='longest_first', # Activate and control truncation\n",
    "                            max_length = 84,           # Max length according to our text data.\n",
    "                            pad_to_max_length = True, # Pad & truncate all sentences.\n",
    "                            return_attention_mask = True,   # Construct attn. masks.\n",
    "                            return_tensors = 'pt',     # Return pytorch tensors.\n",
    "                       )\n",
    "\n",
    "        # Add the encoded sentence to the id list. \n",
    "        \n",
    "        input_ids.append(encoded_dict['input_ids'])\n",
    "\n",
    "        # And its attention mask (simply differentiates padding from non-padding).\n",
    "        \n",
    "        attention_masks.append(encoded_dict['attention_mask'])\n",
    "        \n",
    "    # Convert the lists into tensors.\n",
    "    \n",
    "    input_ids = torch.cat(input_ids, dim=0)\n",
    "    attention_masks = torch.cat(attention_masks, dim=0)\n",
    "    \n",
    "    if labs != 'None': # Setting this for using this definition for both train and test data so labels won't be a problem in our outputs.\n",
    "        labels = torch.tensor(labels)\n",
    "        return input_ids, attention_masks, labels\n",
    "    else:\n",
    "        return input_ids, attention_masks"
   ],
   "metadata": {
    "trusted": true,
    "pycharm": {
     "is_executing": false
    }
   },
   "execution_count": 12,
   "outputs": []
  },
  {
   "cell_type": "code",
   "source": [
    "input_ids, attention_masks, labels = tokenize_map(train, labels)\n",
    "test_input_ids, test_attention_masks= tokenize_map(test)"
   ],
   "metadata": {
    "trusted": true,
    "pycharm": {
     "is_executing": false
    }
   },
   "execution_count": 13,
   "outputs": []
  },
  {
   "cell_type": "code",
   "source": [
    "# Combine the training inputs into a TensorDataset.\n",
    "\n",
    "dataset = TensorDataset(input_ids, attention_masks, labels)\n",
    "\n",
    "# Create a 80-20 train-validation split.\n",
    "\n",
    "# Calculate the number of samples to include in each set.\n",
    "\n",
    "train_size = int(0.8 * len(dataset))\n",
    "val_size = len(dataset) - train_size\n",
    "\n",
    "# Divide the dataset by randomly selecting samples.\n",
    "\n",
    "train_dataset, val_dataset = random_split(dataset, [train_size, val_size])\n",
    "\n",
    "print('{:>5,} training samples'.format(train_size))\n",
    "print('{:>5,} validation samples'.format(val_size))"
   ],
   "metadata": {
    "trusted": true,
    "pycharm": {
     "is_executing": false
    }
   },
   "execution_count": 14,
   "outputs": [
    {
     "name": "stdout",
     "text": [
      "16,640 training samples\n",
      "4,160 validation samples\n"
     ],
     "output_type": "stream"
    }
   ]
  },
  {
   "cell_type": "code",
   "source": [
    "# The DataLoader needs to know our batch size for training, so we specify it here. For fine-tuning BERT on a specific task, the authors recommend a batch size of 16 or 32.\n",
    "\n",
    "batch_size = 5\n",
    "\n",
    "# Create the DataLoaders for our training and validation sets.\n",
    "# We'll take training samples in random order. \n",
    "\n",
    "train_dataloader = DataLoader(\n",
    "            train_dataset,  # The training samples.\n",
    "            sampler = RandomSampler(train_dataset), # Select batches randomly\n",
    "            batch_size = batch_size # Trains with this batch size.\n",
    "        )\n",
    "\n",
    "# For validation the order doesn't matter, so we'll just read them sequentially.\n",
    "\n",
    "validation_dataloader = DataLoader(\n",
    "            val_dataset, # The validation samples.\n",
    "            sampler = SequentialSampler(val_dataset), # Pull out batches sequentially.\n",
    "            batch_size = batch_size # Evaluate with this batch size.\n",
    ")"
   ],
   "metadata": {
    "trusted": true,
    "pycharm": {
     "is_executing": false
    }
   },
   "execution_count": 15,
   "outputs": []
  },
  {
   "cell_type": "code",
   "source": [
    "prediction_data = TensorDataset(test_input_ids, test_attention_masks)\n",
    "prediction_sampler = SequentialSampler(prediction_data)\n",
    "prediction_dataloader = DataLoader(prediction_data, sampler=prediction_sampler, batch_size=batch_size)"
   ],
   "metadata": {
    "trusted": true,
    "pycharm": {
     "is_executing": false
    }
   },
   "execution_count": 16,
   "outputs": []
  },
  {
   "cell_type": "code",
   "source": [
    "# Load BertForSequenceClassification, the pretrained BERT model with a single linear classification layer on top. \n",
    "\n",
    "model = BertForSequenceClassification.from_pretrained(\n",
    "    'bert-base-uncased', # Use the 124-layer, 1024-hidden, 16-heads, 340M parameters BERT model with an uncased vocab.\n",
    "    num_labels = 2, # The number of output labels--2 for binary classification. You can increase this for multi-class tasks.   \n",
    "    output_attentions = False, # Whether the model returns attentions weights.\n",
    "    output_hidden_states = False, # Whether the model returns all hidden-states.\n",
    ")\n",
    "\n",
    "# Tell pytorch to run this model on the device which we set GPU in our case.\n",
    "\n",
    "model.to(device)"
   ],
   "metadata": {
    "trusted": true,
    "pycharm": {
     "is_executing": false
    }
   },
   "execution_count": 17,
   "outputs": [
    {
     "name": "stderr",
     "text": [
      "Some weights of the model checkpoint at bert-base-uncased were not used when initializing BertForSequenceClassification: ['cls.predictions.transform.LayerNorm.weight', 'cls.predictions.transform.dense.bias', 'cls.predictions.decoder.weight', 'cls.seq_relationship.bias', 'cls.seq_relationship.weight', 'cls.predictions.bias', 'cls.predictions.transform.LayerNorm.bias', 'cls.predictions.transform.dense.weight']\n",
      "- This IS expected if you are initializing BertForSequenceClassification from the checkpoint of a model trained on another task or with another architecture (e.g. initializing a BertForSequenceClassification model from a BertForPreTraining model).\n",
      "- This IS NOT expected if you are initializing BertForSequenceClassification from the checkpoint of a model that you expect to be exactly identical (initializing a BertForSequenceClassification model from a BertForSequenceClassification model).\n",
      "Some weights of BertForSequenceClassification were not initialized from the model checkpoint at bert-base-uncased and are newly initialized: ['classifier.bias', 'classifier.weight']\n",
      "You should probably TRAIN this model on a down-stream task to be able to use it for predictions and inference.\n"
     ],
     "output_type": "stream"
    },
    {
     "data": {
      "text/plain": "BertForSequenceClassification(\n  (bert): BertModel(\n    (embeddings): BertEmbeddings(\n      (word_embeddings): Embedding(30522, 768, padding_idx=0)\n      (position_embeddings): Embedding(512, 768)\n      (token_type_embeddings): Embedding(2, 768)\n      (LayerNorm): LayerNorm((768,), eps=1e-12, elementwise_affine=True)\n      (dropout): Dropout(p=0.1, inplace=False)\n    )\n    (encoder): BertEncoder(\n      (layer): ModuleList(\n        (0): BertLayer(\n          (attention): BertAttention(\n            (self): BertSelfAttention(\n              (query): Linear(in_features=768, out_features=768, bias=True)\n              (key): Linear(in_features=768, out_features=768, bias=True)\n              (value): Linear(in_features=768, out_features=768, bias=True)\n              (dropout): Dropout(p=0.1, inplace=False)\n            )\n            (output): BertSelfOutput(\n              (dense): Linear(in_features=768, out_features=768, bias=True)\n              (LayerNorm): LayerNorm((768,), eps=1e-12, elementwise_affine=True)\n              (dropout): Dropout(p=0.1, inplace=False)\n            )\n          )\n          (intermediate): BertIntermediate(\n            (dense): Linear(in_features=768, out_features=3072, bias=True)\n          )\n          (output): BertOutput(\n            (dense): Linear(in_features=3072, out_features=768, bias=True)\n            (LayerNorm): LayerNorm((768,), eps=1e-12, elementwise_affine=True)\n            (dropout): Dropout(p=0.1, inplace=False)\n          )\n        )\n        (1): BertLayer(\n          (attention): BertAttention(\n            (self): BertSelfAttention(\n              (query): Linear(in_features=768, out_features=768, bias=True)\n              (key): Linear(in_features=768, out_features=768, bias=True)\n              (value): Linear(in_features=768, out_features=768, bias=True)\n              (dropout): Dropout(p=0.1, inplace=False)\n            )\n            (output): BertSelfOutput(\n              (dense): Linear(in_features=768, out_features=768, bias=True)\n              (LayerNorm): LayerNorm((768,), eps=1e-12, elementwise_affine=True)\n              (dropout): Dropout(p=0.1, inplace=False)\n            )\n          )\n          (intermediate): BertIntermediate(\n            (dense): Linear(in_features=768, out_features=3072, bias=True)\n          )\n          (output): BertOutput(\n            (dense): Linear(in_features=3072, out_features=768, bias=True)\n            (LayerNorm): LayerNorm((768,), eps=1e-12, elementwise_affine=True)\n            (dropout): Dropout(p=0.1, inplace=False)\n          )\n        )\n        (2): BertLayer(\n          (attention): BertAttention(\n            (self): BertSelfAttention(\n              (query): Linear(in_features=768, out_features=768, bias=True)\n              (key): Linear(in_features=768, out_features=768, bias=True)\n              (value): Linear(in_features=768, out_features=768, bias=True)\n              (dropout): Dropout(p=0.1, inplace=False)\n            )\n            (output): BertSelfOutput(\n              (dense): Linear(in_features=768, out_features=768, bias=True)\n              (LayerNorm): LayerNorm((768,), eps=1e-12, elementwise_affine=True)\n              (dropout): Dropout(p=0.1, inplace=False)\n            )\n          )\n          (intermediate): BertIntermediate(\n            (dense): Linear(in_features=768, out_features=3072, bias=True)\n          )\n          (output): BertOutput(\n            (dense): Linear(in_features=3072, out_features=768, bias=True)\n            (LayerNorm): LayerNorm((768,), eps=1e-12, elementwise_affine=True)\n            (dropout): Dropout(p=0.1, inplace=False)\n          )\n        )\n        (3): BertLayer(\n          (attention): BertAttention(\n            (self): BertSelfAttention(\n              (query): Linear(in_features=768, out_features=768, bias=True)\n              (key): Linear(in_features=768, out_features=768, bias=True)\n              (value): Linear(in_features=768, out_features=768, bias=True)\n              (dropout): Dropout(p=0.1, inplace=False)\n            )\n            (output): BertSelfOutput(\n              (dense): Linear(in_features=768, out_features=768, bias=True)\n              (LayerNorm): LayerNorm((768,), eps=1e-12, elementwise_affine=True)\n              (dropout): Dropout(p=0.1, inplace=False)\n            )\n          )\n          (intermediate): BertIntermediate(\n            (dense): Linear(in_features=768, out_features=3072, bias=True)\n          )\n          (output): BertOutput(\n            (dense): Linear(in_features=3072, out_features=768, bias=True)\n            (LayerNorm): LayerNorm((768,), eps=1e-12, elementwise_affine=True)\n            (dropout): Dropout(p=0.1, inplace=False)\n          )\n        )\n        (4): BertLayer(\n          (attention): BertAttention(\n            (self): BertSelfAttention(\n              (query): Linear(in_features=768, out_features=768, bias=True)\n              (key): Linear(in_features=768, out_features=768, bias=True)\n              (value): Linear(in_features=768, out_features=768, bias=True)\n              (dropout): Dropout(p=0.1, inplace=False)\n            )\n            (output): BertSelfOutput(\n              (dense): Linear(in_features=768, out_features=768, bias=True)\n              (LayerNorm): LayerNorm((768,), eps=1e-12, elementwise_affine=True)\n              (dropout): Dropout(p=0.1, inplace=False)\n            )\n          )\n          (intermediate): BertIntermediate(\n            (dense): Linear(in_features=768, out_features=3072, bias=True)\n          )\n          (output): BertOutput(\n            (dense): Linear(in_features=3072, out_features=768, bias=True)\n            (LayerNorm): LayerNorm((768,), eps=1e-12, elementwise_affine=True)\n            (dropout): Dropout(p=0.1, inplace=False)\n          )\n        )\n        (5): BertLayer(\n          (attention): BertAttention(\n            (self): BertSelfAttention(\n              (query): Linear(in_features=768, out_features=768, bias=True)\n              (key): Linear(in_features=768, out_features=768, bias=True)\n              (value): Linear(in_features=768, out_features=768, bias=True)\n              (dropout): Dropout(p=0.1, inplace=False)\n            )\n            (output): BertSelfOutput(\n              (dense): Linear(in_features=768, out_features=768, bias=True)\n              (LayerNorm): LayerNorm((768,), eps=1e-12, elementwise_affine=True)\n              (dropout): Dropout(p=0.1, inplace=False)\n            )\n          )\n          (intermediate): BertIntermediate(\n            (dense): Linear(in_features=768, out_features=3072, bias=True)\n          )\n          (output): BertOutput(\n            (dense): Linear(in_features=3072, out_features=768, bias=True)\n            (LayerNorm): LayerNorm((768,), eps=1e-12, elementwise_affine=True)\n            (dropout): Dropout(p=0.1, inplace=False)\n          )\n        )\n        (6): BertLayer(\n          (attention): BertAttention(\n            (self): BertSelfAttention(\n              (query): Linear(in_features=768, out_features=768, bias=True)\n              (key): Linear(in_features=768, out_features=768, bias=True)\n              (value): Linear(in_features=768, out_features=768, bias=True)\n              (dropout): Dropout(p=0.1, inplace=False)\n            )\n            (output): BertSelfOutput(\n              (dense): Linear(in_features=768, out_features=768, bias=True)\n              (LayerNorm): LayerNorm((768,), eps=1e-12, elementwise_affine=True)\n              (dropout): Dropout(p=0.1, inplace=False)\n            )\n          )\n          (intermediate): BertIntermediate(\n            (dense): Linear(in_features=768, out_features=3072, bias=True)\n          )\n          (output): BertOutput(\n            (dense): Linear(in_features=3072, out_features=768, bias=True)\n            (LayerNorm): LayerNorm((768,), eps=1e-12, elementwise_affine=True)\n            (dropout): Dropout(p=0.1, inplace=False)\n          )\n        )\n        (7): BertLayer(\n          (attention): BertAttention(\n            (self): BertSelfAttention(\n              (query): Linear(in_features=768, out_features=768, bias=True)\n              (key): Linear(in_features=768, out_features=768, bias=True)\n              (value): Linear(in_features=768, out_features=768, bias=True)\n              (dropout): Dropout(p=0.1, inplace=False)\n            )\n            (output): BertSelfOutput(\n              (dense): Linear(in_features=768, out_features=768, bias=True)\n              (LayerNorm): LayerNorm((768,), eps=1e-12, elementwise_affine=True)\n              (dropout): Dropout(p=0.1, inplace=False)\n            )\n          )\n          (intermediate): BertIntermediate(\n            (dense): Linear(in_features=768, out_features=3072, bias=True)\n          )\n          (output): BertOutput(\n            (dense): Linear(in_features=3072, out_features=768, bias=True)\n            (LayerNorm): LayerNorm((768,), eps=1e-12, elementwise_affine=True)\n            (dropout): Dropout(p=0.1, inplace=False)\n          )\n        )\n        (8): BertLayer(\n          (attention): BertAttention(\n            (self): BertSelfAttention(\n              (query): Linear(in_features=768, out_features=768, bias=True)\n              (key): Linear(in_features=768, out_features=768, bias=True)\n              (value): Linear(in_features=768, out_features=768, bias=True)\n              (dropout): Dropout(p=0.1, inplace=False)\n            )\n            (output): BertSelfOutput(\n              (dense): Linear(in_features=768, out_features=768, bias=True)\n              (LayerNorm): LayerNorm((768,), eps=1e-12, elementwise_affine=True)\n              (dropout): Dropout(p=0.1, inplace=False)\n            )\n          )\n          (intermediate): BertIntermediate(\n            (dense): Linear(in_features=768, out_features=3072, bias=True)\n          )\n          (output): BertOutput(\n            (dense): Linear(in_features=3072, out_features=768, bias=True)\n            (LayerNorm): LayerNorm((768,), eps=1e-12, elementwise_affine=True)\n            (dropout): Dropout(p=0.1, inplace=False)\n          )\n        )\n        (9): BertLayer(\n          (attention): BertAttention(\n            (self): BertSelfAttention(\n              (query): Linear(in_features=768, out_features=768, bias=True)\n              (key): Linear(in_features=768, out_features=768, bias=True)\n              (value): Linear(in_features=768, out_features=768, bias=True)\n              (dropout): Dropout(p=0.1, inplace=False)\n            )\n            (output): BertSelfOutput(\n              (dense): Linear(in_features=768, out_features=768, bias=True)\n              (LayerNorm): LayerNorm((768,), eps=1e-12, elementwise_affine=True)\n              (dropout): Dropout(p=0.1, inplace=False)\n            )\n          )\n          (intermediate): BertIntermediate(\n            (dense): Linear(in_features=768, out_features=3072, bias=True)\n          )\n          (output): BertOutput(\n            (dense): Linear(in_features=3072, out_features=768, bias=True)\n            (LayerNorm): LayerNorm((768,), eps=1e-12, elementwise_affine=True)\n            (dropout): Dropout(p=0.1, inplace=False)\n          )\n        )\n        (10): BertLayer(\n          (attention): BertAttention(\n            (self): BertSelfAttention(\n              (query): Linear(in_features=768, out_features=768, bias=True)\n              (key): Linear(in_features=768, out_features=768, bias=True)\n              (value): Linear(in_features=768, out_features=768, bias=True)\n              (dropout): Dropout(p=0.1, inplace=False)\n            )\n            (output): BertSelfOutput(\n              (dense): Linear(in_features=768, out_features=768, bias=True)\n              (LayerNorm): LayerNorm((768,), eps=1e-12, elementwise_affine=True)\n              (dropout): Dropout(p=0.1, inplace=False)\n            )\n          )\n          (intermediate): BertIntermediate(\n            (dense): Linear(in_features=768, out_features=3072, bias=True)\n          )\n          (output): BertOutput(\n            (dense): Linear(in_features=3072, out_features=768, bias=True)\n            (LayerNorm): LayerNorm((768,), eps=1e-12, elementwise_affine=True)\n            (dropout): Dropout(p=0.1, inplace=False)\n          )\n        )\n        (11): BertLayer(\n          (attention): BertAttention(\n            (self): BertSelfAttention(\n              (query): Linear(in_features=768, out_features=768, bias=True)\n              (key): Linear(in_features=768, out_features=768, bias=True)\n              (value): Linear(in_features=768, out_features=768, bias=True)\n              (dropout): Dropout(p=0.1, inplace=False)\n            )\n            (output): BertSelfOutput(\n              (dense): Linear(in_features=768, out_features=768, bias=True)\n              (LayerNorm): LayerNorm((768,), eps=1e-12, elementwise_affine=True)\n              (dropout): Dropout(p=0.1, inplace=False)\n            )\n          )\n          (intermediate): BertIntermediate(\n            (dense): Linear(in_features=768, out_features=3072, bias=True)\n          )\n          (output): BertOutput(\n            (dense): Linear(in_features=3072, out_features=768, bias=True)\n            (LayerNorm): LayerNorm((768,), eps=1e-12, elementwise_affine=True)\n            (dropout): Dropout(p=0.1, inplace=False)\n          )\n        )\n      )\n    )\n    (pooler): BertPooler(\n      (dense): Linear(in_features=768, out_features=768, bias=True)\n      (activation): Tanh()\n    )\n  )\n  (dropout): Dropout(p=0.1, inplace=False)\n  (classifier): Linear(in_features=768, out_features=2, bias=True)\n)"
     },
     "metadata": {},
     "output_type": "execute_result",
     "execution_count": 17
    }
   ]
  },
  {
   "cell_type": "code",
   "source": [
    "# Get all of the model's parameters as a list of tuples:\n",
    "\n",
    "params = list(model.named_parameters())\n",
    "\n",
    "print('The BERT model has {:} different named parameters.\\n'.format(len(params)))\n",
    "\n",
    "print('==== Embedding Layer ====\\n')\n",
    "\n",
    "for p in params[0:5]:\n",
    "    print('{:<55} {:>12}'.format(p[0], str(tuple(p[1].size()))))\n",
    "\n",
    "print('\\n==== First Transformer ====\\n')\n",
    "\n",
    "for p in params[5:21]:\n",
    "    print('{:<55} {:>12}'.format(p[0], str(tuple(p[1].size()))))\n",
    "\n",
    "print('\\n==== Output Layer ====\\n')\n",
    "\n",
    "for p in params[-4:]:\n",
    "    print('{:<55} {:>12}'.format(p[0], str(tuple(p[1].size()))))"
   ],
   "metadata": {
    "trusted": true,
    "pycharm": {
     "is_executing": false
    }
   },
   "execution_count": 18,
   "outputs": [
    {
     "name": "stdout",
     "text": [
      "The BERT model has 201 different named parameters.\n",
      "\n",
      "==== Embedding Layer ====\n",
      "\n",
      "bert.embeddings.word_embeddings.weight                  (30522, 768)\n",
      "bert.embeddings.position_embeddings.weight                (512, 768)\n",
      "bert.embeddings.token_type_embeddings.weight                (2, 768)\n",
      "bert.embeddings.LayerNorm.weight                              (768,)\n",
      "bert.embeddings.LayerNorm.bias                                (768,)\n",
      "\n",
      "==== First Transformer ====\n",
      "\n",
      "bert.encoder.layer.0.attention.self.query.weight          (768, 768)\n",
      "bert.encoder.layer.0.attention.self.query.bias                (768,)\n",
      "bert.encoder.layer.0.attention.self.key.weight            (768, 768)\n",
      "bert.encoder.layer.0.attention.self.key.bias                  (768,)\n",
      "bert.encoder.layer.0.attention.self.value.weight          (768, 768)\n",
      "bert.encoder.layer.0.attention.self.value.bias                (768,)\n",
      "bert.encoder.layer.0.attention.output.dense.weight        (768, 768)\n",
      "bert.encoder.layer.0.attention.output.dense.bias              (768,)\n",
      "bert.encoder.layer.0.attention.output.LayerNorm.weight        (768,)\n",
      "bert.encoder.layer.0.attention.output.LayerNorm.bias          (768,)\n",
      "bert.encoder.layer.0.intermediate.dense.weight           (3072, 768)\n",
      "bert.encoder.layer.0.intermediate.dense.bias                 (3072,)\n",
      "bert.encoder.layer.0.output.dense.weight                 (768, 3072)\n",
      "bert.encoder.layer.0.output.dense.bias                        (768,)\n",
      "bert.encoder.layer.0.output.LayerNorm.weight                  (768,)\n",
      "bert.encoder.layer.0.output.LayerNorm.bias                    (768,)\n",
      "\n",
      "==== Output Layer ====\n",
      "\n",
      "bert.pooler.dense.weight                                  (768, 768)\n",
      "bert.pooler.dense.bias                                        (768,)\n",
      "classifier.weight                                           (2, 768)\n",
      "classifier.bias                                                 (2,)\n"
     ],
     "output_type": "stream"
    }
   ]
  },
  {
   "cell_type": "code",
   "source": [
    "# Note: AdamW is a class from the huggingface library (as opposed to pytorch).\n",
    "\n",
    "# The 'W' stands for 'Weight Decay fix' probably...\n",
    "\n",
    "optimizer = AdamW(model.parameters(),\n",
    "                  lr = 6e-6, # args.learning_rate\n",
    "                  eps = 1e-8 # args.adam_epsilon\n",
    "                )"
   ],
   "metadata": {
    "trusted": true,
    "pycharm": {
     "is_executing": false
    }
   },
   "execution_count": 19,
   "outputs": []
  },
  {
   "cell_type": "code",
   "source": [
    "# Number of training epochs. The BERT authors recommend between 2 and 4. \n",
    "\n",
    "# We chose to run for 3, but we'll see later that this may be over-fitting the training data.\n",
    "\n",
    "epochs = 3\n",
    "\n",
    "# Total number of training steps is [number of batches] x [number of epochs] (Note that this is not the same as the number of training samples).\n",
    "total_steps = len(train_dataloader) * epochs\n",
    "\n",
    "# Create the learning rate scheduler.\n",
    "\n",
    "scheduler = get_linear_schedule_with_warmup(optimizer, \n",
    "                                            num_warmup_steps = 0, # Default value in run_glue.py\n",
    "                                            num_training_steps = total_steps)"
   ],
   "metadata": {
    "trusted": true,
    "pycharm": {
     "is_executing": false
    }
   },
   "execution_count": 20,
   "outputs": []
  },
  {
   "cell_type": "code",
   "source": [
    "def flat_accuracy(preds, labels):\n",
    "    \n",
    "    \"\"\"A function for calculating accuracy scores\"\"\"\n",
    "    \n",
    "    pred_flat = np.argmax(preds, axis=1).flatten()\n",
    "    labels_flat = labels.flatten()\n",
    "    \n",
    "    return accuracy_score(labels_flat, pred_flat)\n",
    "\n",
    "def flat_f1(preds, labels):\n",
    "    \n",
    "    \"\"\"A function for calculating f1 scores\"\"\"\n",
    "    \n",
    "    pred_flat = np.argmax(preds, axis=1).flatten()\n",
    "    labels_flat = labels.flatten()\n",
    "    \n",
    "    return f1_score(labels_flat, pred_flat)"
   ],
   "metadata": {
    "trusted": true,
    "pycharm": {
     "is_executing": false
    }
   },
   "execution_count": 21,
   "outputs": []
  },
  {
   "cell_type": "code",
   "source": [
    "def format_time(elapsed):    \n",
    "    \n",
    "    \"\"\"A function that takes a time in seconds and returns a string hh:mm:ss\"\"\"\n",
    "    \n",
    "    # Round to the nearest second.\n",
    "    elapsed_rounded = int(round((elapsed)))\n",
    "    \n",
    "    # Format as hh:mm:ss\n",
    "    return str(datetime.timedelta(seconds=elapsed_rounded))"
   ],
   "metadata": {
    "trusted": true,
    "pycharm": {
     "is_executing": false
    }
   },
   "execution_count": 22,
   "outputs": []
  },
  {
   "cell_type": "code",
   "source": [
    "# This training code is based on the `run_glue.py` script here:\n",
    "\n",
    "# https://github.com/huggingface/transformers/blob/5bfcd0485ece086ebcbed2d008813037968a9e58/examples/run_glue.py#L128\n",
    "\n",
    "\n",
    "# We'll store a number of quantities such as training and validation loss, validation accuracy, f1 score and timings.\n",
    "\n",
    "training_stats = []\n",
    "\n",
    "# Measure the total training time for the whole run.\n",
    "\n",
    "total_t0 = time.time()\n",
    "\n",
    "# For each epoch...\n",
    "\n",
    "for epoch_i in range(0, epochs):\n",
    "    \n",
    "    # ========================================\n",
    "    #               Training\n",
    "    # ========================================\n",
    "    \n",
    "    # Perform one full pass over the training set.\n",
    "\n",
    "    print('')\n",
    "    print('======== Epoch {:} / {:} ========'.format(epoch_i + 1, epochs))\n",
    "    print('Training...')\n",
    "\n",
    "    # Measure how long the training epoch takes:\n",
    "    \n",
    "    t0 = time.time()\n",
    "\n",
    "    # Reset the total loss for this epoch.\n",
    "    \n",
    "    total_train_loss = 0\n",
    "\n",
    "    # Put the model into training mode. Don't be mislead--the call to `train` just changes the *mode*, it doesn't *perform* the training.\n",
    "    \n",
    "    # `dropout` and `batchnorm` layers behave differently during training vs. test ,\n",
    "    # source: https://stackoverflow.com/questions/51433378/what-does-model-train-do-in-pytorch\n",
    "    \n",
    "    model.train()\n",
    "\n",
    "    # For each batch of training data...\n",
    "    \n",
    "    for step, batch in enumerate(train_dataloader):\n",
    "\n",
    "        # Progress update every 10 batches.\n",
    "        if step % 50 == 0 and not step == 0:\n",
    "            # Calculate elapsed time in minutes.\n",
    "            elapsed = format_time(time.time() - t0)\n",
    "            \n",
    "            # Report progress.\n",
    "            print('  Batch {:>5,}  of  {:>5,}.    Elapsed: {:}.'.format(step, len(train_dataloader), elapsed))\n",
    "\n",
    "        # Unpack this training batch from our dataloader. \n",
    "        #\n",
    "        # As we unpack the batch, we'll also copy each tensor to the device(gpu in our case) using the `to` method.\n",
    "        #\n",
    "        # `batch` contains three pytorch tensors:\n",
    "        #   [0]: input ids \n",
    "        #   [1]: attention masks\n",
    "        #   [2]: labels \n",
    "        \n",
    "        b_input_ids = batch[0].to(device).to(torch.int64)\n",
    "        b_input_mask = batch[1].to(device).to(torch.int64)\n",
    "        b_labels = batch[2].to(device).to(torch.int64)\n",
    "        \n",
    "        # Always clear any previously calculated gradients before performing a backward pass. PyTorch doesn't do this automatically because accumulating the gradients is 'convenient while training RNNs'. \n",
    "        # Source: https://stackoverflow.com/questions/48001598/why-do-we-need-to-call-zero-grad-in-pytorch\n",
    "        \n",
    "        model.zero_grad()        \n",
    "\n",
    "        # Perform a forward pass (evaluate the model on this training batch).\n",
    "        # The documentation for this `model` function is down here: \n",
    "        # https://huggingface.co/transformers/v2.2.0/model_doc/bert.html#transformers BertForSequenceClassification.\n",
    "        \n",
    "        # It returns different numbers of parameters depending on what arguments given and what flags are set. For our useage here, it returns the loss (because we provided labels),\n",
    "        # And the 'logits' (the model outputs prior to activation.)\n",
    "        loss = model(b_input_ids, \n",
    "                                   token_type_ids=None, \n",
    "                                   attention_mask=b_input_mask,\n",
    "                                   labels=b_labels)[0]\n",
    "        logits = model(b_input_ids, \n",
    "                                   token_type_ids=None, \n",
    "                                   attention_mask=b_input_mask,\n",
    "                                   labels=b_labels)[1]\n",
    "        #print(loss)\n",
    "\n",
    "        # Accumulate the training loss over all of the batches so that we can calculate the average loss at the end, \n",
    "        # `loss` is a tensor containing a single value; the `.item()` function just returns the Python value from the tensor.\n",
    "        \n",
    "        total_train_loss += loss.item()\n",
    "\n",
    "        # Perform a backward pass to calculate the gradients.\n",
    "        \n",
    "        loss.backward()\n",
    "\n",
    "        # Clip the norm of the gradients to 1.0 This is to help prevent the 'exploding gradients' problem.\n",
    "        \n",
    "        torch.nn.utils.clip_grad_norm_(model.parameters(), 1.0)\n",
    "\n",
    "        # Update parameters and take a step using the computed gradient.\n",
    "        \n",
    "        # The optimizer dictates the 'update rule'(How the parameters are modified based on their gradients, the learning rate, etc.)\n",
    "        \n",
    "        optimizer.step()\n",
    "\n",
    "        # Update the learning rate.\n",
    "        \n",
    "        scheduler.step()\n",
    "\n",
    "    # Calculate the average loss over all of the batches.\n",
    "    \n",
    "    avg_train_loss = total_train_loss / len(train_dataloader)            \n",
    "    \n",
    "    # Measure how long this epoch took.\n",
    "    \n",
    "    training_time = format_time(time.time() - t0)\n",
    "\n",
    "    print('')\n",
    "    print('  Average training loss: {0:.2f}'.format(avg_train_loss))\n",
    "    print('  Training epcoh took: {:}'.format(training_time))\n",
    "        \n",
    "    # ========================================\n",
    "    #               Validation\n",
    "    # ========================================\n",
    "    # After the completion of each training epoch, measure our performance on our validation set.\n",
    "\n",
    "    print('')\n",
    "    print('Running Validation...')\n",
    "\n",
    "    t0 = time.time()\n",
    "\n",
    "    # Put the model in evaluation mode--the dropout layers behave differently during evaluation.\n",
    "    \n",
    "    model.eval()\n",
    "\n",
    "    # Tracking variables:\n",
    "    \n",
    "    total_eval_accuracy = 0\n",
    "    total_eval_loss = 0\n",
    "    total_eval_f1 = 0\n",
    "    nb_eval_steps = 0\n",
    "\n",
    "    # Evaluate data for one epoch.\n",
    "    \n",
    "    for batch in validation_dataloader:\n",
    "        \n",
    "        # Unpack this training batch from our dataloader. \n",
    "        \n",
    "        # As we unpack the batch, we'll also copy each tensor to the GPU using the `to` method.\n",
    "        \n",
    "        # `batch` contains three pytorch tensors:\n",
    "        #   [0]: input ids \n",
    "        #   [1]: attention masks\n",
    "        #   [2]: labels \n",
    "        b_input_ids = batch[0].to(device)\n",
    "        b_input_mask = batch[1].to(device)\n",
    "        b_labels = batch[2].to(device)\n",
    "        \n",
    "        # Tell pytorch not to bother with constructing the compute graph during the forward pass, since this is only needed for backprop (training part).\n",
    "        \n",
    "        with torch.no_grad():        \n",
    "\n",
    "            # Forward pass, calculate logit predictions.\n",
    "            # token_type_ids is the same as the 'segment ids', which differentiates sentence 1 and 2 in 2-sentence tasks.\n",
    "            # The documentation for this `model` function is down here: \n",
    "            # https://huggingface.co/transformers/v2.2.0/model_doc/bert.html#transformers BertForSequenceClassification.\n",
    "            # Get the 'logits' output by the model. The 'logits' are the output values prior to applying an activation function like the softmax.\n",
    "            \n",
    "            loss = model(b_input_ids, \n",
    "                                   token_type_ids=None, \n",
    "                                   attention_mask=b_input_mask,\n",
    "                                   labels=b_labels)[0]\n",
    "\n",
    "            logits = model(b_input_ids, \n",
    "                                   token_type_ids=None, \n",
    "                                   attention_mask=b_input_mask,\n",
    "                                   labels=b_labels)[1]\n",
    "            \n",
    "        # Accumulate the validation loss.\n",
    "        \n",
    "        total_eval_loss += loss.item()\n",
    "\n",
    "        # Move logits and labels to CPU:\n",
    "        \n",
    "        logits = logits.detach().cpu().numpy()\n",
    "        label_ids = b_labels.to('cpu').numpy()\n",
    "\n",
    "        # Calculate the accuracy for this batch of test sentences, and accumulate it over all batches:\n",
    "        \n",
    "        total_eval_accuracy += flat_accuracy(logits, label_ids)\n",
    "        total_eval_f1 += flat_f1(logits, label_ids)\n",
    "        \n",
    "\n",
    "    # Report the final accuracy for this validation run.\n",
    "    \n",
    "    avg_val_accuracy = total_eval_accuracy / len(validation_dataloader)\n",
    "    print('  Accuracy: {0:.2f}'.format(avg_val_accuracy))\n",
    "    \n",
    "    # Report the final f1 score for this validation run.\n",
    "    \n",
    "    avg_val_f1 = total_eval_f1 / len(validation_dataloader)\n",
    "    print('  F1: {0:.2f}'.format(avg_val_f1))\n",
    "\n",
    "    # Calculate the average loss over all of the batches.\n",
    "    \n",
    "    avg_val_loss = total_eval_loss / len(validation_dataloader)\n",
    "    \n",
    "    \n",
    "    \n",
    "    # Measure how long the validation run took:\n",
    "    \n",
    "    validation_time = format_time(time.time() - t0)\n",
    "    \n",
    "    print('  Validation Loss: {0:.2f}'.format(avg_val_loss))\n",
    "    print('  Validation took: {:}'.format(validation_time))\n",
    "\n",
    "    # Record all statistics from this epoch.\n",
    "    \n",
    "    training_stats.append(\n",
    "        {\n",
    "            'epoch': epoch_i + 1,\n",
    "            'Training Loss': avg_train_loss,\n",
    "            'Valid. Loss': avg_val_loss,\n",
    "            'Valid. Accur.': avg_val_accuracy,\n",
    "            'Val_F1' : avg_val_f1,\n",
    "            'Training Time': training_time,\n",
    "            'Validation Time': validation_time\n",
    "        }\n",
    "    )\n",
    "\n",
    "print('')\n",
    "print('Training complete!')\n",
    "\n",
    "print('Total training took {:} (h:mm:ss)'.format(format_time(time.time()-total_t0)))"
   ],
   "metadata": {
    "trusted": true,
    "pycharm": {
     "is_executing": false
    }
   },
   "execution_count": 23,
   "outputs": [
    {
     "name": "stdout",
     "text": [
      "\n",
      "======== Epoch 1 / 3 ========\n",
      "Training...\n",
      "  Batch    50  of  3,328.    Elapsed: 0:00:17.\n",
      "  Batch   100  of  3,328.    Elapsed: 0:00:30.\n",
      "  Batch   150  of  3,328.    Elapsed: 0:00:43.\n",
      "  Batch   200  of  3,328.    Elapsed: 0:00:55.\n",
      "  Batch   250  of  3,328.    Elapsed: 0:01:07.\n",
      "  Batch   300  of  3,328.    Elapsed: 0:01:19.\n",
      "  Batch   350  of  3,328.    Elapsed: 0:01:32.\n",
      "  Batch   400  of  3,328.    Elapsed: 0:01:45.\n",
      "  Batch   450  of  3,328.    Elapsed: 0:01:58.\n",
      "  Batch   500  of  3,328.    Elapsed: 0:02:10.\n",
      "  Batch   550  of  3,328.    Elapsed: 0:02:24.\n",
      "  Batch   600  of  3,328.    Elapsed: 0:02:37.\n",
      "  Batch   650  of  3,328.    Elapsed: 0:02:51.\n",
      "  Batch   700  of  3,328.    Elapsed: 0:03:04.\n",
      "  Batch   750  of  3,328.    Elapsed: 0:03:16.\n",
      "  Batch   800  of  3,328.    Elapsed: 0:03:29.\n",
      "  Batch   850  of  3,328.    Elapsed: 0:03:42.\n",
      "  Batch   900  of  3,328.    Elapsed: 0:03:55.\n",
      "  Batch   950  of  3,328.    Elapsed: 0:04:08.\n",
      "  Batch 1,000  of  3,328.    Elapsed: 0:04:21.\n",
      "  Batch 1,050  of  3,328.    Elapsed: 0:04:34.\n",
      "  Batch 1,100  of  3,328.    Elapsed: 0:04:46.\n",
      "  Batch 1,150  of  3,328.    Elapsed: 0:04:59.\n",
      "  Batch 1,200  of  3,328.    Elapsed: 0:05:11.\n",
      "  Batch 1,250  of  3,328.    Elapsed: 0:05:24.\n",
      "  Batch 1,300  of  3,328.    Elapsed: 0:05:36.\n",
      "  Batch 1,350  of  3,328.    Elapsed: 0:05:49.\n",
      "  Batch 1,400  of  3,328.    Elapsed: 0:06:01.\n",
      "  Batch 1,450  of  3,328.    Elapsed: 0:06:14.\n",
      "  Batch 1,500  of  3,328.    Elapsed: 0:06:27.\n",
      "  Batch 1,550  of  3,328.    Elapsed: 0:06:39.\n",
      "  Batch 1,600  of  3,328.    Elapsed: 0:06:52.\n",
      "  Batch 1,650  of  3,328.    Elapsed: 0:07:05.\n",
      "  Batch 1,700  of  3,328.    Elapsed: 0:07:18.\n",
      "  Batch 1,750  of  3,328.    Elapsed: 0:07:31.\n",
      "  Batch 1,800  of  3,328.    Elapsed: 0:07:43.\n",
      "  Batch 1,850  of  3,328.    Elapsed: 0:07:56.\n",
      "  Batch 1,900  of  3,328.    Elapsed: 0:08:09.\n",
      "  Batch 1,950  of  3,328.    Elapsed: 0:08:22.\n",
      "  Batch 2,000  of  3,328.    Elapsed: 0:08:35.\n",
      "  Batch 2,050  of  3,328.    Elapsed: 0:08:48.\n",
      "  Batch 2,100  of  3,328.    Elapsed: 0:09:02.\n",
      "  Batch 2,150  of  3,328.    Elapsed: 0:09:15.\n",
      "  Batch 2,200  of  3,328.    Elapsed: 0:09:30.\n",
      "  Batch 2,250  of  3,328.    Elapsed: 0:09:43.\n",
      "  Batch 2,300  of  3,328.    Elapsed: 0:09:57.\n",
      "  Batch 2,350  of  3,328.    Elapsed: 0:10:11.\n",
      "  Batch 2,400  of  3,328.    Elapsed: 0:10:25.\n",
      "  Batch 2,450  of  3,328.    Elapsed: 0:10:39.\n",
      "  Batch 2,500  of  3,328.    Elapsed: 0:10:53.\n",
      "  Batch 2,550  of  3,328.    Elapsed: 0:11:07.\n",
      "  Batch 2,600  of  3,328.    Elapsed: 0:11:21.\n",
      "  Batch 2,650  of  3,328.    Elapsed: 0:11:35.\n",
      "  Batch 2,700  of  3,328.    Elapsed: 0:11:49.\n",
      "  Batch 2,750  of  3,328.    Elapsed: 0:12:03.\n",
      "  Batch 2,800  of  3,328.    Elapsed: 0:12:17.\n",
      "  Batch 2,850  of  3,328.    Elapsed: 0:12:30.\n",
      "  Batch 2,900  of  3,328.    Elapsed: 0:12:43.\n",
      "  Batch 2,950  of  3,328.    Elapsed: 0:12:57.\n",
      "  Batch 3,000  of  3,328.    Elapsed: 0:13:11.\n",
      "  Batch 3,050  of  3,328.    Elapsed: 0:13:25.\n",
      "  Batch 3,100  of  3,328.    Elapsed: 0:13:39.\n",
      "  Batch 3,150  of  3,328.    Elapsed: 0:13:52.\n",
      "  Batch 3,200  of  3,328.    Elapsed: 0:14:07.\n",
      "  Batch 3,250  of  3,328.    Elapsed: 0:14:21.\n",
      "  Batch 3,300  of  3,328.    Elapsed: 0:14:35.\n",
      "\n",
      "  Average training loss: 0.16\n",
      "  Training epcoh took: 0:14:42\n",
      "\n",
      "Running Validation...\n",
      "  Accuracy: 0.98\n",
      "  F1: 0.95\n",
      "  Validation Loss: 0.12\n",
      "  Validation took: 0:01:28\n",
      "\n",
      "======== Epoch 2 / 3 ========\n",
      "Training...\n",
      "  Batch    50  of  3,328.    Elapsed: 0:00:14.\n",
      "  Batch   100  of  3,328.    Elapsed: 0:00:27.\n",
      "  Batch   150  of  3,328.    Elapsed: 0:00:42.\n",
      "  Batch   200  of  3,328.    Elapsed: 0:00:56.\n",
      "  Batch   250  of  3,328.    Elapsed: 0:01:10.\n",
      "  Batch   300  of  3,328.    Elapsed: 0:01:24.\n",
      "  Batch   350  of  3,328.    Elapsed: 0:01:37.\n",
      "  Batch   400  of  3,328.    Elapsed: 0:01:51.\n",
      "  Batch   450  of  3,328.    Elapsed: 0:02:04.\n",
      "  Batch   500  of  3,328.    Elapsed: 0:02:19.\n",
      "  Batch   550  of  3,328.    Elapsed: 0:02:33.\n",
      "  Batch   600  of  3,328.    Elapsed: 0:02:47.\n",
      "  Batch   650  of  3,328.    Elapsed: 0:03:01.\n",
      "  Batch   700  of  3,328.    Elapsed: 0:03:17.\n",
      "  Batch   750  of  3,328.    Elapsed: 0:03:31.\n",
      "  Batch   800  of  3,328.    Elapsed: 0:03:44.\n",
      "  Batch   850  of  3,328.    Elapsed: 0:03:59.\n",
      "  Batch   900  of  3,328.    Elapsed: 0:04:13.\n",
      "  Batch   950  of  3,328.    Elapsed: 0:04:27.\n",
      "  Batch 1,000  of  3,328.    Elapsed: 0:04:41.\n",
      "  Batch 1,050  of  3,328.    Elapsed: 0:04:56.\n",
      "  Batch 1,100  of  3,328.    Elapsed: 0:05:09.\n",
      "  Batch 1,150  of  3,328.    Elapsed: 0:05:22.\n",
      "  Batch 1,200  of  3,328.    Elapsed: 0:05:35.\n",
      "  Batch 1,250  of  3,328.    Elapsed: 0:05:49.\n",
      "  Batch 1,300  of  3,328.    Elapsed: 0:06:03.\n",
      "  Batch 1,350  of  3,328.    Elapsed: 0:06:17.\n",
      "  Batch 1,400  of  3,328.    Elapsed: 0:06:31.\n",
      "  Batch 1,450  of  3,328.    Elapsed: 0:06:45.\n",
      "  Batch 1,500  of  3,328.    Elapsed: 0:06:58.\n",
      "  Batch 1,550  of  3,328.    Elapsed: 0:07:10.\n",
      "  Batch 1,600  of  3,328.    Elapsed: 0:07:23.\n",
      "  Batch 1,650  of  3,328.    Elapsed: 0:07:35.\n",
      "  Batch 1,700  of  3,328.    Elapsed: 0:07:48.\n",
      "  Batch 1,750  of  3,328.    Elapsed: 0:08:00.\n",
      "  Batch 1,800  of  3,328.    Elapsed: 0:08:13.\n",
      "  Batch 1,850  of  3,328.    Elapsed: 0:08:26.\n",
      "  Batch 1,900  of  3,328.    Elapsed: 0:08:40.\n",
      "  Batch 1,950  of  3,328.    Elapsed: 0:08:53.\n",
      "  Batch 2,000  of  3,328.    Elapsed: 0:09:06.\n",
      "  Batch 2,050  of  3,328.    Elapsed: 0:09:21.\n",
      "  Batch 2,100  of  3,328.    Elapsed: 0:09:35.\n",
      "  Batch 2,150  of  3,328.    Elapsed: 0:09:49.\n",
      "  Batch 2,200  of  3,328.    Elapsed: 0:10:03.\n",
      "  Batch 2,250  of  3,328.    Elapsed: 0:10:17.\n",
      "  Batch 2,300  of  3,328.    Elapsed: 0:10:32.\n",
      "  Batch 2,350  of  3,328.    Elapsed: 0:10:46.\n",
      "  Batch 2,400  of  3,328.    Elapsed: 0:10:59.\n",
      "  Batch 2,450  of  3,328.    Elapsed: 0:11:13.\n",
      "  Batch 2,500  of  3,328.    Elapsed: 0:11:27.\n",
      "  Batch 2,550  of  3,328.    Elapsed: 0:11:41.\n",
      "  Batch 2,600  of  3,328.    Elapsed: 0:11:55.\n",
      "  Batch 2,650  of  3,328.    Elapsed: 0:12:08.\n",
      "  Batch 2,700  of  3,328.    Elapsed: 0:12:21.\n",
      "  Batch 2,750  of  3,328.    Elapsed: 0:12:35.\n",
      "  Batch 2,800  of  3,328.    Elapsed: 0:12:49.\n",
      "  Batch 2,850  of  3,328.    Elapsed: 0:13:04.\n",
      "  Batch 2,900  of  3,328.    Elapsed: 0:13:17.\n",
      "  Batch 2,950  of  3,328.    Elapsed: 0:13:31.\n",
      "  Batch 3,000  of  3,328.    Elapsed: 0:13:45.\n",
      "  Batch 3,050  of  3,328.    Elapsed: 0:13:59.\n",
      "  Batch 3,100  of  3,328.    Elapsed: 0:14:13.\n",
      "  Batch 3,150  of  3,328.    Elapsed: 0:14:28.\n",
      "  Batch 3,200  of  3,328.    Elapsed: 0:14:41.\n",
      "  Batch 3,250  of  3,328.    Elapsed: 0:14:54.\n",
      "  Batch 3,300  of  3,328.    Elapsed: 0:15:07.\n",
      "\n",
      "  Average training loss: 0.04\n",
      "  Training epcoh took: 0:15:15\n",
      "\n",
      "Running Validation...\n",
      "  Accuracy: 0.99\n",
      "  F1: 0.96\n",
      "  Validation Loss: 0.08\n",
      "  Validation took: 0:01:25\n",
      "\n",
      "======== Epoch 3 / 3 ========\n",
      "Training...\n",
      "  Batch    50  of  3,328.    Elapsed: 0:00:14.\n",
      "  Batch   100  of  3,328.    Elapsed: 0:00:27.\n",
      "  Batch   150  of  3,328.    Elapsed: 0:00:42.\n",
      "  Batch   200  of  3,328.    Elapsed: 0:00:55.\n",
      "  Batch   250  of  3,328.    Elapsed: 0:01:08.\n",
      "  Batch   300  of  3,328.    Elapsed: 0:01:21.\n",
      "  Batch   350  of  3,328.    Elapsed: 0:01:35.\n",
      "  Batch   400  of  3,328.    Elapsed: 0:01:48.\n",
      "  Batch   450  of  3,328.    Elapsed: 0:02:01.\n",
      "  Batch   500  of  3,328.    Elapsed: 0:02:14.\n",
      "  Batch   550  of  3,328.    Elapsed: 0:02:28.\n",
      "  Batch   600  of  3,328.    Elapsed: 0:02:43.\n",
      "  Batch   650  of  3,328.    Elapsed: 0:02:58.\n",
      "  Batch   700  of  3,328.    Elapsed: 0:03:12.\n",
      "  Batch   750  of  3,328.    Elapsed: 0:03:25.\n",
      "  Batch   800  of  3,328.    Elapsed: 0:03:39.\n",
      "  Batch   850  of  3,328.    Elapsed: 0:03:52.\n",
      "  Batch   900  of  3,328.    Elapsed: 0:04:05.\n",
      "  Batch   950  of  3,328.    Elapsed: 0:04:19.\n",
      "  Batch 1,000  of  3,328.    Elapsed: 0:04:32.\n",
      "  Batch 1,050  of  3,328.    Elapsed: 0:04:46.\n",
      "  Batch 1,100  of  3,328.    Elapsed: 0:04:59.\n",
      "  Batch 1,150  of  3,328.    Elapsed: 0:05:13.\n",
      "  Batch 1,200  of  3,328.    Elapsed: 0:05:27.\n",
      "  Batch 1,250  of  3,328.    Elapsed: 0:05:40.\n",
      "  Batch 1,300  of  3,328.    Elapsed: 0:05:54.\n",
      "  Batch 1,350  of  3,328.    Elapsed: 0:06:07.\n",
      "  Batch 1,400  of  3,328.    Elapsed: 0:06:19.\n",
      "  Batch 1,450  of  3,328.    Elapsed: 0:06:33.\n",
      "  Batch 1,500  of  3,328.    Elapsed: 0:06:46.\n",
      "  Batch 1,550  of  3,328.    Elapsed: 0:06:59.\n",
      "  Batch 1,600  of  3,328.    Elapsed: 0:07:12.\n",
      "  Batch 1,650  of  3,328.    Elapsed: 0:07:25.\n",
      "  Batch 1,700  of  3,328.    Elapsed: 0:07:39.\n",
      "  Batch 1,750  of  3,328.    Elapsed: 0:07:52.\n",
      "  Batch 1,800  of  3,328.    Elapsed: 0:08:04.\n",
      "  Batch 1,850  of  3,328.    Elapsed: 0:08:17.\n",
      "  Batch 1,900  of  3,328.    Elapsed: 0:08:31.\n",
      "  Batch 1,950  of  3,328.    Elapsed: 0:08:43.\n",
      "  Batch 2,000  of  3,328.    Elapsed: 0:08:57.\n",
      "  Batch 2,050  of  3,328.    Elapsed: 0:09:10.\n",
      "  Batch 2,100  of  3,328.    Elapsed: 0:09:22.\n",
      "  Batch 2,150  of  3,328.    Elapsed: 0:09:35.\n",
      "  Batch 2,200  of  3,328.    Elapsed: 0:09:48.\n",
      "  Batch 2,250  of  3,328.    Elapsed: 0:10:01.\n",
      "  Batch 2,300  of  3,328.    Elapsed: 0:10:14.\n",
      "  Batch 2,350  of  3,328.    Elapsed: 0:10:27.\n",
      "  Batch 2,400  of  3,328.    Elapsed: 0:10:39.\n",
      "  Batch 2,450  of  3,328.    Elapsed: 0:10:54.\n",
      "  Batch 2,500  of  3,328.    Elapsed: 0:11:09.\n",
      "  Batch 2,550  of  3,328.    Elapsed: 0:11:22.\n",
      "  Batch 2,600  of  3,328.    Elapsed: 0:11:36.\n",
      "  Batch 2,650  of  3,328.    Elapsed: 0:11:50.\n",
      "  Batch 2,700  of  3,328.    Elapsed: 0:12:03.\n",
      "  Batch 2,750  of  3,328.    Elapsed: 0:12:18.\n",
      "  Batch 2,800  of  3,328.    Elapsed: 0:12:31.\n",
      "  Batch 2,850  of  3,328.    Elapsed: 0:12:45.\n",
      "  Batch 2,900  of  3,328.    Elapsed: 0:12:59.\n",
      "  Batch 2,950  of  3,328.    Elapsed: 0:13:13.\n",
      "  Batch 3,000  of  3,328.    Elapsed: 0:13:27.\n",
      "  Batch 3,050  of  3,328.    Elapsed: 0:13:40.\n",
      "  Batch 3,100  of  3,328.    Elapsed: 0:13:53.\n",
      "  Batch 3,150  of  3,328.    Elapsed: 0:14:07.\n",
      "  Batch 3,200  of  3,328.    Elapsed: 0:14:20.\n",
      "  Batch 3,250  of  3,328.    Elapsed: 0:14:33.\n",
      "  Batch 3,300  of  3,328.    Elapsed: 0:14:46.\n",
      "\n",
      "  Average training loss: 0.02\n",
      "  Training epcoh took: 0:14:53\n",
      "\n",
      "Running Validation...\n",
      "  Accuracy: 0.99\n",
      "  F1: 0.97\n",
      "  Validation Loss: 0.08\n",
      "  Validation took: 0:01:25\n",
      "\n",
      "Training complete!\n",
      "Total training took 0:49:09 (h:mm:ss)\n"
     ],
     "output_type": "stream"
    }
   ]
  },
  {
   "cell_type": "code",
   "source": [
    "# Display floats with two decimal places.\n",
    "\n",
    "pd.set_option('precision', 3)\n",
    "\n",
    "# Create a DataFrame from our training statistics.\n",
    "\n",
    "df_stats = pd.DataFrame(data=training_stats)\n",
    "\n",
    "# Use the 'epoch' as the row index.\n",
    "\n",
    "df_stats = df_stats.set_index('epoch')\n",
    "\n",
    "# Display the table.\n",
    "\n",
    "display(df_stats)"
   ],
   "metadata": {
    "trusted": true,
    "pycharm": {
     "is_executing": false
    }
   },
   "execution_count": 24,
   "outputs": [
    {
     "data": {
      "text/plain": "       Training Loss  Valid. Loss  Valid. Accur.  Val_F1 Training Time  \\\nepoch                                                                    \n1              0.164        0.116          0.978   0.954       0:14:42   \n2              0.043        0.079          0.987   0.965       0:15:15   \n3              0.017        0.081          0.987   0.966       0:14:53   \n\n      Validation Time  \nepoch                  \n1             0:01:28  \n2             0:01:25  \n3             0:01:25  ",
      "text/html": "<div>\n<style scoped>\n    .dataframe tbody tr th:only-of-type {\n        vertical-align: middle;\n    }\n\n    .dataframe tbody tr th {\n        vertical-align: top;\n    }\n\n    .dataframe thead th {\n        text-align: right;\n    }\n</style>\n<table border=\"1\" class=\"dataframe\">\n  <thead>\n    <tr style=\"text-align: right;\">\n      <th></th>\n      <th>Training Loss</th>\n      <th>Valid. Loss</th>\n      <th>Valid. Accur.</th>\n      <th>Val_F1</th>\n      <th>Training Time</th>\n      <th>Validation Time</th>\n    </tr>\n    <tr>\n      <th>epoch</th>\n      <th></th>\n      <th></th>\n      <th></th>\n      <th></th>\n      <th></th>\n      <th></th>\n    </tr>\n  </thead>\n  <tbody>\n    <tr>\n      <th>1</th>\n      <td>0.164</td>\n      <td>0.116</td>\n      <td>0.978</td>\n      <td>0.954</td>\n      <td>0:14:42</td>\n      <td>0:01:28</td>\n    </tr>\n    <tr>\n      <th>2</th>\n      <td>0.043</td>\n      <td>0.079</td>\n      <td>0.987</td>\n      <td>0.965</td>\n      <td>0:15:15</td>\n      <td>0:01:25</td>\n    </tr>\n    <tr>\n      <th>3</th>\n      <td>0.017</td>\n      <td>0.081</td>\n      <td>0.987</td>\n      <td>0.966</td>\n      <td>0:14:53</td>\n      <td>0:01:25</td>\n    </tr>\n  </tbody>\n</table>\n</div>"
     },
     "metadata": {},
     "output_type": "display_data"
    }
   ]
  },
  {
   "cell_type": "code",
   "source": [
    "# Increase the plot size and font size:\n",
    "\n",
    "fig, axes = plt.subplots(figsize=(12,8))\n",
    "\n",
    "# Plot the learning curve:\n",
    "\n",
    "plt.plot(df_stats['Training Loss'], 'b-o', label='Training')\n",
    "plt.plot(df_stats['Valid. Loss'], 'g-o', label='Validation')\n",
    "\n",
    "# Label the plot:\n",
    "\n",
    "plt.title('Training & Validation Loss')\n",
    "plt.xlabel('Epoch')\n",
    "plt.ylabel('Loss')\n",
    "\n",
    "plt.legend()\n",
    "plt.xticks([1, 2])\n",
    "\n",
    "plt.show()"
   ],
   "metadata": {
    "trusted": true,
    "pycharm": {
     "is_executing": false
    }
   },
   "execution_count": 25,
   "outputs": [
    {
     "data": {
      "text/plain": "<Figure size 864x576 with 1 Axes>",
      "image/png": "[encoded data removed]"
     },
     "metadata": {},
     "output_type": "display_data"
    }
   ]
  },
  {
   "cell_type": "code",
   "source": [
    "# Prediction on test set:\n",
    "\n",
    "print('Predicting labels for {:,} test sentences...'.format(len(test_input_ids)))\n",
    "\n",
    "# Put model in evaluation mode:\n",
    "\n",
    "model.eval()\n",
    "\n",
    "# Tracking variables :\n",
    "\n",
    "predictions = []\n",
    "\n",
    "# Predict:\n",
    "\n",
    "for batch in prediction_dataloader:\n",
    "    \n",
    "  # Add batch to GPU\n",
    "\n",
    "  batch = tuple(t.to(device) for t in batch)\n",
    "  \n",
    "  # Unpack the inputs from our dataloader:\n",
    "    \n",
    "  b_input_ids, b_input_mask, = batch\n",
    "  \n",
    "  # Telling the model not to compute or store gradients, saving memory and speeding up prediction:\n",
    "\n",
    "  with torch.no_grad():\n",
    "      # Forward pass, calculate logit predictions:\n",
    "    \n",
    "      outputs = model(b_input_ids, token_type_ids=None, \n",
    "                      attention_mask=b_input_mask)\n",
    "\n",
    "  logits = outputs[0]\n",
    "\n",
    "  # Move logits and labels to CPU:\n",
    "    \n",
    "  logits = logits.detach().cpu().numpy()\n",
    " \n",
    "    \n",
    "    \n",
    "  \n",
    "  # Store predictions and true labels:\n",
    "    \n",
    "  predictions.append(logits)\n",
    "\n",
    "\n",
    "print('    DONE.')"
   ],
   "metadata": {
    "trusted": true,
    "pycharm": {
     "is_executing": false
    }
   },
   "execution_count": 26,
   "outputs": [
    {
     "name": "stdout",
     "text": [
      "Predicting labels for 5,200 test sentences...\n",
      "    DONE.\n"
     ],
     "output_type": "stream"
    }
   ]
  },
  {
   "cell_type": "code",
   "source": [
    "# 1=false, 0=true\n",
    "import sklearn.metrics as metrics\n",
    "from sklearn.metrics import ConfusionMatrixDisplay\n",
    "\n",
    "flat_predictions = [item for sublist in predictions for item in sublist]\n",
    "flat_predictions = np.argmax(flat_predictions, axis=1).flatten()\n",
    "\n",
    "accuracy = accuracy_score(test_labels, flat_predictions)\n",
    "print(accuracy)\n",
    "\n",
    "cm = metrics.confusion_matrix(test_labels, flat_predictions)\n",
    "\n",
    "cm_display = ConfusionMatrixDisplay(cm).plot()\n"
   ],
   "metadata": {
    "trusted": true,
    "pycharm": {
     "is_executing": false,
     "name": "#%%\n"
    }
   },
   "execution_count": 27,
   "outputs": [
    {
     "name": "stdout",
     "text": [
      "0.6336538461538461\n"
     ],
     "output_type": "stream"
    },
    {
     "data": {
      "text/plain": "<Figure size 432x288 with 2 Axes>",
      "image/png": "[encoded data removed]"
     },
     "metadata": {},
     "output_type": "display_data"
    }
   ]
  }
 ]
}