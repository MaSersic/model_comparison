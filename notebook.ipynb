{
 "cells": [
  {
   "cell_type": "code",
   "execution_count": 1,
   "metadata": {
    "collapsed": true,
    "pycharm": {
     "is_executing": false
    }
   },
   "outputs": [],
   "source": [
    "# Imports\n",
    "import pandas as pd\n",
    "import time\n",
    "import numpy as np \n",
    "from sklearn.feature_extraction.text import CountVectorizer\n",
    "from sklearn.naive_bayes import MultinomialNB\n",
    "from sklearn.linear_model import SGDClassifier\n",
    "from sklearn.svm import SVC\n",
    "import sklearn.metrics as metrics\n",
    "from sklearn.metrics import ConfusionMatrixDisplay"
   ]
  },
  {
   "cell_type": "code",
   "execution_count": 2,
   "outputs": [],
   "source": [
    "# Data preprocessing\n",
    "\n",
    "# kaggle fake news dataset\n",
    "kaggle_train = pd.read_csv(r'.\\data\\fake-news\\train.csv')\n",
    "kaggle_test = pd.read_csv(r'.\\data\\fake-news\\test.csv')\n",
    "results = pd.read_csv(r'.\\data\\fake-news\\submit.csv')\n",
    "\n",
    "kaggle_train_labels = []\n",
    "for label in kaggle_train[\"label\"].values:\n",
    "    if label == 0:\n",
    "        kaggle_train_labels.append(1)\n",
    "    else:\n",
    "        kaggle_train_labels.append(0)\n",
    "kaggle_train_labels = np.array(kaggle_train_labels)        \n",
    "        \n",
    "kaggle_test_labels = []\n",
    "for label in results[\"label\"].values:\n",
    "    if label == 0:\n",
    "        kaggle_test_labels.append(1)\n",
    "    else:\n",
    "        kaggle_test_labels.append(0)\n",
    "kaggle_test_labels = np.array(kaggle_test_labels) \n",
    "\n",
    "kaggle_train.drop('label',axis=1)\n",
    "kaggle_train = kaggle_train.fillna('no data')\n",
    "kaggle_test = kaggle_test.fillna('no data')\n",
    "\n",
    "# liar dataset\n",
    "liar_train = pd.read_csv(r'.\\data\\liar_dataset\\train.tsv', sep=\"\\t\", header=None).values\n",
    "liar_test = pd.read_csv(r'.\\data\\liar_dataset\\test.tsv', sep=\"\\t\", header=None).values\n",
    "\n",
    "# Changing labels from descriptors to 0/1\n",
    "# pants-fire, false, barely-true, half-true = 0\n",
    "# mostly-true, true = 1\n",
    "\n",
    "for i in range(0, len(liar_train)):\n",
    "    if liar_train[i, 1] in [\"mostly-true\", \"true\"]:\n",
    "        liar_train[i, 1] = 1\n",
    "    else:\n",
    "        liar_train[i, 1] = 0\n",
    "\n",
    "liar_train_labels = liar_train[:, 1].astype('int')\n",
    "        \n",
    "for i in range(0, len(liar_test)):\n",
    "    if liar_test[i, 1] in [\"mostly-true\", \"true\"]:\n",
    "        liar_test[i, 1] = 1\n",
    "    else:\n",
    "        liar_test[i, 1] = 0        \n",
    "\n",
    "liar_test_labels = liar_test[:, 1].astype('int')\n",
    "\n",
    "vals = kaggle_train[\"text\"].values"
   ],
   "metadata": {
    "collapsed": false,
    "pycharm": {
     "name": "#%%\n",
     "is_executing": false
    }
   }
  },
  {
   "cell_type": "code",
   "execution_count": 3,
   "outputs": [
    {
     "name": "stdout",
     "text": [
      "0.05186152458190918\n",
      "Naive Bayes on the kaggle dataset\n",
      "Mean accuracy:0.5934615384615385\n"
     ],
     "output_type": "stream"
    },
    {
     "data": {
      "text/plain": "<Figure size 432x288 with 2 Axes>",
      "image/png": "[encoded data removed]"
     },
     "metadata": {
      "needs_background": "light"
     },
     "output_type": "display_data"
    }
   ],
   "source": [
    "# Bayes\n",
    "\n",
    "v=CountVectorizer()\n",
    "x_train_count=v.fit_transform((kaggle_train[\"text\"] + \" \" + kaggle_train[\"title\"]).values)\n",
    "\n",
    "t0 = time.time()\n",
    "\n",
    "model=MultinomialNB()\n",
    "model.fit(x_train_count,kaggle_train_labels)\n",
    "\n",
    "print(time.time() - t0)\n",
    "\n",
    "x_test_count=v.transform((kaggle_test[\"text\"] + \" \" + kaggle_test[\"title\"]).values)\n",
    "prediction = model.predict(x_test_count)\n",
    "\n",
    "print(\"Naive Bayes on the kaggle dataset\")\n",
    "print(\"Mean accuracy:\" + str(metrics.accuracy_score(kaggle_test_labels, prediction)))\n",
    "\n",
    "cm = metrics.confusion_matrix(kaggle_test_labels, prediction)\n",
    "\n",
    "cm_display = ConfusionMatrixDisplay(cm).plot()"
   ],
   "metadata": {
    "collapsed": false,
    "pycharm": {
     "name": "#%%\n",
     "is_executing": false
    }
   }
  },
  {
   "cell_type": "code",
   "execution_count": 4,
   "outputs": [
    {
     "name": "stdout",
     "text": [
      "0.03287529945373535\n",
      "Naive Bayes on the liar dataset\n",
      "Mean accuracy:0.654301499605367\n"
     ],
     "output_type": "stream"
    },
    {
     "data": {
      "text/plain": "<Figure size 432x288 with 2 Axes>",
      "image/png": "[encoded data removed]"
     },
     "metadata": {
      "needs_background": "light"
     },
     "output_type": "display_data"
    }
   ],
   "source": [
    "v=CountVectorizer()\n",
    "x_train_count=v.fit_transform(liar_train[:, 2])\n",
    "\n",
    "t0 = time.time()\n",
    "\n",
    "model=MultinomialNB()\n",
    "model.fit(x_train_count,liar_train_labels)\n",
    "\n",
    "x_test_count=v.transform(liar_test[:, 2])\n",
    "prediction = model.predict(x_test_count)\n",
    "\n",
    "print(time.time() - t0)\n",
    "\n",
    "print(\"Naive Bayes on the liar dataset\")\n",
    "print(\"Mean accuracy:\" + str(metrics.accuracy_score(liar_test_labels, prediction)))\n",
    "\n",
    "cm = metrics.confusion_matrix(liar_test_labels, prediction)\n",
    "\n",
    "cm_display = ConfusionMatrixDisplay(cm).plot()"
   ],
   "metadata": {
    "collapsed": false,
    "pycharm": {
     "name": "#%%\n",
     "is_executing": false
    }
   }
  },
  {
   "cell_type": "code",
   "execution_count": 5,
   "outputs": [
    {
     "name": "stdout",
     "text": [
      "1.3781611919403076\n",
      "Logistic regression on the kaggle dataset\n",
      "Mean accuracy:0.63\n"
     ],
     "output_type": "stream"
    },
    {
     "data": {
      "text/plain": "<Figure size 432x288 with 2 Axes>",
      "image/png": "[encoded data removed]"
     },
     "metadata": {
      "needs_background": "light"
     },
     "output_type": "display_data"
    }
   ],
   "source": [
    "# Logistic regression\n",
    "\n",
    "v=CountVectorizer()\n",
    "x_train_count=v.fit_transform((kaggle_train[\"text\"] + \" \" + kaggle_train[\"title\"]).values)\n",
    "\n",
    "t0 = time.time()\n",
    "\n",
    "model=SGDClassifier(loss='log')\n",
    "model.fit(x_train_count,kaggle_train_labels)\n",
    "\n",
    "print(time.time() - t0)\n",
    "\n",
    "x_test_count=v.transform((kaggle_test[\"text\"] + \" \" + kaggle_test[\"title\"]).values)\n",
    "prediction = model.predict(x_test_count)\n",
    "\n",
    "print(\"Logistic regression on the kaggle dataset\")\n",
    "print(\"Mean accuracy:\" + str(metrics.accuracy_score(kaggle_test_labels, prediction)))\n",
    "\n",
    "cm = metrics.confusion_matrix(kaggle_test_labels, prediction)\n",
    "\n",
    "cm_display = ConfusionMatrixDisplay(cm).plot()"
   ],
   "metadata": {
    "collapsed": false,
    "pycharm": {
     "name": "#%%\n",
     "is_executing": false
    }
   }
  },
  {
   "cell_type": "code",
   "execution_count": 6,
   "outputs": [
    {
     "name": "stdout",
     "text": [
      "0.20943856239318848\n",
      "Logistic regression on the liar dataset\n",
      "Mean accuracy:0.6369376479873717\n"
     ],
     "output_type": "stream"
    },
    {
     "data": {
      "text/plain": "<Figure size 432x288 with 2 Axes>",
      "image/png": "[encoded data removed]"
     },
     "metadata": {
      "needs_background": "light"
     },
     "output_type": "display_data"
    }
   ],
   "source": [
    " \n",
    "v=CountVectorizer()\n",
    "x_train_count=v.fit_transform(liar_train[:, 2])\n",
    "\n",
    "t0 = time.time()\n",
    "\n",
    "model=SGDClassifier(loss='log')\n",
    "model.fit(x_train_count,liar_train_labels)\n",
    "\n",
    "print(time.time() - t0)\n",
    "\n",
    "x_test_count=v.transform(liar_test[:, 2])\n",
    "prediction = model.predict(x_test_count)\n",
    "\n",
    "print(\"Logistic regression on the liar dataset\")\n",
    "print(\"Mean accuracy:\" + str(metrics.accuracy_score(liar_test_labels, prediction)))\n",
    "\n",
    "cm = metrics.confusion_matrix(liar_test_labels, prediction)\n",
    "\n",
    "cm_display = ConfusionMatrixDisplay(cm).plot()"
   ],
   "metadata": {
    "collapsed": false,
    "pycharm": {
     "name": "#%%\n",
     "is_executing": false
    }
   }
  },
  {
   "cell_type": "code",
   "execution_count": 7,
   "outputs": [
    {
     "name": "stdout",
     "text": [
      "539.044846534729\n",
      "SVM on the kaggle dataset\n",
      "Mean accuracy:0.6461538461538462\n"
     ],
     "output_type": "stream"
    },
    {
     "data": {
      "text/plain": "<Figure size 432x288 with 2 Axes>",
      "image/png": "[encoded data removed]"
     },
     "metadata": {
      "needs_background": "light"
     },
     "output_type": "display_data"
    }
   ],
   "source": [
    "# SVM\n",
    "\n",
    "v=CountVectorizer()\n",
    "x_train_count=v.fit_transform((kaggle_train[\"text\"] + \" \" + kaggle_train[\"title\"]).values)\n",
    "\n",
    "t0 = time.time()\n",
    "\n",
    "model=SVC()\n",
    "model.fit(x_train_count,kaggle_train_labels)\n",
    "\n",
    "print(time.time() - t0)\n",
    "\n",
    "x_test_count=v.transform((kaggle_test[\"text\"] + \" \" + kaggle_test[\"title\"]).values)\n",
    "prediction = model.predict(x_test_count)\n",
    "\n",
    "print(\"SVM on the kaggle dataset\")\n",
    "print(\"Mean accuracy:\" + str(metrics.accuracy_score(kaggle_test_labels, prediction)))\n",
    "\n",
    "cm = metrics.confusion_matrix(kaggle_test_labels, prediction)\n",
    "\n",
    "cm_display = ConfusionMatrixDisplay(cm).plot()"
   ],
   "metadata": {
    "collapsed": false,
    "pycharm": {
     "name": "#%%\n",
     "is_executing": false
    }
   }
  },
  {
   "cell_type": "code",
   "execution_count": 8,
   "outputs": [
    {
     "name": "stdout",
     "text": [
      "26.333890199661255\n",
      "SVM on the liar dataset\n",
      "Mean accuracy:0.6511444356748224\n"
     ],
     "output_type": "stream"
    },
    {
     "data": {
      "text/plain": "<Figure size 432x288 with 2 Axes>",
      "image/png": "[encoded data removed]"
     },
     "metadata": {
      "needs_background": "light"
     },
     "output_type": "display_data"
    }
   ],
   "source": [
    "v=CountVectorizer()\n",
    "x_train_count=v.fit_transform(liar_train[:, 2])\n",
    "\n",
    "t0 = time.time()\n",
    "\n",
    "model=SVC()\n",
    "model.fit(x_train_count,liar_train_labels)\n",
    "\n",
    "print(time.time() - t0)\n",
    "\n",
    "x_test_count=v.transform(liar_test[:, 2])\n",
    "prediction = model.predict(x_test_count)\n",
    "\n",
    "print(\"SVM on the liar dataset\")\n",
    "print(\"Mean accuracy:\" + str(metrics.accuracy_score(liar_test_labels, prediction)))\n",
    "\n",
    "cm = metrics.confusion_matrix(liar_test_labels, prediction)\n",
    "\n",
    "cm_display = ConfusionMatrixDisplay(cm).plot()\n"
   ],
   "metadata": {
    "collapsed": false,
    "pycharm": {
     "name": "#%%\n",
     "is_executing": false
    }
   }
  }
 ],
 "metadata": {
  "kernelspec": {
   "name": "python3",
   "language": "python",
   "display_name": "Python 3 (ipykernel)"
  },
  "language_info": {
   "codemirror_mode": {
    "name": "ipython",
    "version": 2
   },
   "file_extension": ".py",
   "mimetype": "text/x-python",
   "name": "python",
   "nbconvert_exporter": "python",
   "pygments_lexer": "ipython2",
   "version": "2.7.6"
  },
  "pycharm": {
   "stem_cell": {
    "cell_type": "raw",
    "source": [],
    "metadata": {
     "collapsed": false
    }
   }
  }
 },
 "nbformat": 4,
 "nbformat_minor": 0
}